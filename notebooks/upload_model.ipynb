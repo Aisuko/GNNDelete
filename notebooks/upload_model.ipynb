{
 "cells": [
  {
   "cell_type": "markdown",
   "id": "1d9c391f-5e28-4488-ba5f-43ba9da4f02c",
   "metadata": {},
   "source": [
    "# Uploading ogbl-citation2 to Kaggle"
   ]
  },
  {
   "cell_type": "code",
   "execution_count": 1,
   "id": "502e0b33-1135-4d4d-b96d-ae10373fd828",
   "metadata": {},
   "outputs": [],
   "source": [
    "!pip install -U -q kagglehub==0.3.0"
   ]
  },
  {
   "cell_type": "code",
   "execution_count": 2,
   "id": "6f7ef5c1-485a-418c-91df-970adfaf337c",
   "metadata": {
    "editable": true,
    "slideshow": {
     "slide_type": ""
    },
    "tags": []
   },
   "outputs": [],
   "source": [
    "import kagglehub"
   ]
  },
  {
   "cell_type": "code",
   "execution_count": 3,
   "id": "f88dc058-423a-4b3a-bf2c-8a751adab14e",
   "metadata": {
    "editable": true,
    "slideshow": {
     "slide_type": ""
    },
    "tags": []
   },
   "outputs": [
    {
     "data": {
      "application/vnd.jupyter.widget-view+json": {
       "model_id": "53b92c0df0c2459bab8d88d30c2b479c",
       "version_major": 2,
       "version_minor": 0
      },
      "text/plain": [
       "VBox(children=(HTML(value='<center> <img\\nsrc=https://www.kaggle.com/static/images/site-logo.png\\nalt=\\'Kaggle…"
      ]
     },
     "metadata": {},
     "output_type": "display_data"
    }
   ],
   "source": [
    "kagglehub.login()"
   ]
  },
  {
   "cell_type": "code",
   "execution_count": 4,
   "id": "d42008ea-2e19-4426-a047-ddbb77bf56bb",
   "metadata": {
    "editable": true,
    "slideshow": {
     "slide_type": ""
    },
    "tags": []
   },
   "outputs": [],
   "source": [
    "LOCAL_MODEL_DIR ='data/ogbl-citation2'\n",
    "MODEL_SLUG='ogbl-citation2'\n",
    "VARIATION_SLUG = 'v1'"
   ]
  },
  {
   "cell_type": "code",
   "execution_count": 5,
   "id": "0ecd671a-3788-4e5a-9ae4-9afd927e7d73",
   "metadata": {
    "editable": true,
    "slideshow": {
     "slide_type": ""
    },
    "tags": []
   },
   "outputs": [
    {
     "name": "stdout",
     "output_type": "stream",
     "text": [
      "Uploading Model https://www.kaggle.com/models/skywardai/ogbl-citation2/pyTorch/v1 ...\n",
      "Model 'ogbl-citation2' does not exist or access is forbidden for user 'skywardai'. Creating or handling Model...\n",
      "Model 'ogbl-citation2' Created.\n",
      "Starting upload for file data/ogbl-citation2/d_42.pkl\n"
     ]
    },
    {
     "name": "stderr",
     "output_type": "stream",
     "text": [
      "Uploading: 100%|██████████| 2.28G/2.28G [01:36<00:00, 23.5MB/s]  "
     ]
    },
    {
     "name": "stdout",
     "output_type": "stream",
     "text": [
      "Upload successful: data/ogbl-citation2/d_42.pkl (2GB)\n",
      "Starting upload for file data/ogbl-citation2/df_42.pt\n"
     ]
    },
    {
     "name": "stderr",
     "output_type": "stream",
     "text": [
      "\n",
      "Uploading: 100%|██████████| 27.4M/27.4M [00:03<00:00, 7.81MB/s]"
     ]
    },
    {
     "name": "stdout",
     "output_type": "stream",
     "text": [
      "Upload successful: data/ogbl-citation2/df_42.pt (26MB)\n",
      "Starting upload for file data/ogbl-citation2/d_21.pkl\n"
     ]
    },
    {
     "name": "stderr",
     "output_type": "stream",
     "text": [
      "\n",
      "Uploading: 100%|██████████| 2.28G/2.28G [01:24<00:00, 26.8MB/s]  "
     ]
    },
    {
     "name": "stdout",
     "output_type": "stream",
     "text": [
      "Upload successful: data/ogbl-citation2/d_21.pkl (2GB)\n",
      "Starting upload for file data/ogbl-citation2/df_21.pt\n"
     ]
    },
    {
     "name": "stderr",
     "output_type": "stream",
     "text": [
      "\n",
      "Uploading: 100%|██████████| 27.4M/27.4M [00:03<00:00, 8.06MB/s]"
     ]
    },
    {
     "name": "stdout",
     "output_type": "stream",
     "text": [
      "Upload successful: data/ogbl-citation2/df_21.pt (26MB)\n",
      "Starting upload for file data/ogbl-citation2/d_13.pkl\n"
     ]
    },
    {
     "name": "stderr",
     "output_type": "stream",
     "text": [
      "\n",
      "Uploading: 100%|██████████| 2.28G/2.28G [01:32<00:00, 24.7MB/s]  "
     ]
    },
    {
     "name": "stdout",
     "output_type": "stream",
     "text": [
      "Upload successful: data/ogbl-citation2/d_13.pkl (2GB)\n",
      "Starting upload for file data/ogbl-citation2/df_13.pt\n"
     ]
    },
    {
     "name": "stderr",
     "output_type": "stream",
     "text": [
      "\n",
      "Uploading: 100%|██████████| 27.4M/27.4M [00:03<00:00, 8.71MB/s]"
     ]
    },
    {
     "name": "stdout",
     "output_type": "stream",
     "text": [
      "Upload successful: data/ogbl-citation2/df_13.pt (26MB)\n",
      "Starting upload for file data/ogbl-citation2/d_87.pkl\n"
     ]
    },
    {
     "name": "stderr",
     "output_type": "stream",
     "text": [
      "\n",
      "Uploading: 100%|██████████| 2.28G/2.28G [01:29<00:00, 25.3MB/s]"
     ]
    },
    {
     "name": "stdout",
     "output_type": "stream",
     "text": [
      "Upload successful: data/ogbl-citation2/d_87.pkl (2GB)\n",
      "Starting upload for file data/ogbl-citation2/df_87.pt\n"
     ]
    },
    {
     "name": "stderr",
     "output_type": "stream",
     "text": [
      "\n",
      "Uploading: 100%|██████████| 27.4M/27.4M [00:03<00:00, 8.74MB/s]"
     ]
    },
    {
     "name": "stdout",
     "output_type": "stream",
     "text": [
      "Upload successful: data/ogbl-citation2/df_87.pt (26MB)\n",
      "Starting upload for file data/ogbl-citation2/d_100.pkl\n"
     ]
    },
    {
     "name": "stderr",
     "output_type": "stream",
     "text": [
      "\n",
      "Uploading: 100%|██████████| 2.28G/2.28G [01:25<00:00, 26.6MB/s] "
     ]
    },
    {
     "name": "stdout",
     "output_type": "stream",
     "text": [
      "Upload successful: data/ogbl-citation2/d_100.pkl (2GB)\n",
      "Starting upload for file data/ogbl-citation2/df_100.pt\n"
     ]
    },
    {
     "name": "stderr",
     "output_type": "stream",
     "text": [
      "\n",
      "Uploading: 100%|██████████| 27.4M/27.4M [00:03<00:00, 8.48MB/s]"
     ]
    },
    {
     "name": "stdout",
     "output_type": "stream",
     "text": [
      "Upload successful: data/ogbl-citation2/df_100.pt (26MB)\n",
      "Starting upload for file data/ogbl-citation2/ogbl_citation2/RELEASE_v1.txt\n"
     ]
    },
    {
     "name": "stderr",
     "output_type": "stream",
     "text": [
      "\n",
      "Uploading: 100%|██████████| 96.0/96.0 [00:00<00:00, 113B/s]"
     ]
    },
    {
     "name": "stdout",
     "output_type": "stream",
     "text": [
      "Upload successful: data/ogbl-citation2/ogbl_citation2/RELEASE_v1.txt (96B)\n",
      "Starting upload for file data/ogbl-citation2/ogbl_citation2/split/time/train.pt\n"
     ]
    },
    {
     "name": "stderr",
     "output_type": "stream",
     "text": [
      "\n",
      "Uploading: 100%|██████████| 547M/547M [00:22<00:00, 24.4MB/s] "
     ]
    },
    {
     "name": "stdout",
     "output_type": "stream",
     "text": [
      "Upload successful: data/ogbl-citation2/ogbl_citation2/split/time/train.pt (521MB)\n",
      "Starting upload for file data/ogbl-citation2/ogbl_citation2/split/time/test.pt\n"
     ]
    },
    {
     "name": "stderr",
     "output_type": "stream",
     "text": [
      "\n",
      "Uploading: 100%|██████████| 781M/781M [00:34<00:00, 22.9MB/s] "
     ]
    },
    {
     "name": "stdout",
     "output_type": "stream",
     "text": [
      "Upload successful: data/ogbl-citation2/ogbl_citation2/split/time/test.pt (744MB)\n",
      "Starting upload for file data/ogbl-citation2/ogbl_citation2/split/time/valid.pt\n"
     ]
    },
    {
     "name": "stderr",
     "output_type": "stream",
     "text": [
      "\n",
      "Uploading: 100%|██████████| 781M/781M [00:32<00:00, 24.0MB/s]   "
     ]
    },
    {
     "name": "stdout",
     "output_type": "stream",
     "text": [
      "Upload successful: data/ogbl-citation2/ogbl_citation2/split/time/valid.pt (744MB)\n",
      "Starting upload for file data/ogbl-citation2/ogbl_citation2/processed/geometric_data_processed.pt\n"
     ]
    },
    {
     "name": "stderr",
     "output_type": "stream",
     "text": [
      "\n",
      "Uploading: 100%|██████████| 2.01G/2.01G [01:29<00:00, 22.6MB/s] "
     ]
    },
    {
     "name": "stdout",
     "output_type": "stream",
     "text": [
      "Upload successful: data/ogbl-citation2/ogbl_citation2/processed/geometric_data_processed.pt (2GB)\n",
      "Starting upload for file data/ogbl-citation2/ogbl_citation2/processed/pre_transform.pt\n"
     ]
    },
    {
     "name": "stderr",
     "output_type": "stream",
     "text": [
      "\n",
      "Uploading: 100%|██████████| 431/431 [00:00<00:00, 495B/s]"
     ]
    },
    {
     "name": "stdout",
     "output_type": "stream",
     "text": [
      "Upload successful: data/ogbl-citation2/ogbl_citation2/processed/pre_transform.pt (431B)\n",
      "Starting upload for file data/ogbl-citation2/ogbl_citation2/processed/pre_filter.pt\n"
     ]
    },
    {
     "name": "stderr",
     "output_type": "stream",
     "text": [
      "\n",
      "Uploading: 100%|██████████| 431/431 [00:00<00:00, 494B/s]  "
     ]
    },
    {
     "name": "stdout",
     "output_type": "stream",
     "text": [
      "Upload successful: data/ogbl-citation2/ogbl_citation2/processed/pre_filter.pt (431B)\n",
      "Starting upload for file data/ogbl-citation2/ogbl_citation2/mapping/README.md\n"
     ]
    },
    {
     "name": "stderr",
     "output_type": "stream",
     "text": [
      "\n",
      "Uploading: 100%|██████████| 522/522 [00:00<00:00, 611B/s]"
     ]
    },
    {
     "name": "stdout",
     "output_type": "stream",
     "text": [
      "Upload successful: data/ogbl-citation2/ogbl_citation2/mapping/README.md (522B)\n",
      "Starting upload for file data/ogbl-citation2/ogbl_citation2/mapping/nodeidx2paperid.csv.gz\n"
     ]
    },
    {
     "name": "stderr",
     "output_type": "stream",
     "text": [
      "\n",
      "Uploading: 100%|██████████| 18.2M/18.2M [00:03<00:00, 5.71MB/s]"
     ]
    },
    {
     "name": "stdout",
     "output_type": "stream",
     "text": [
      "Upload successful: data/ogbl-citation2/ogbl_citation2/mapping/nodeidx2paperid.csv.gz (17MB)\n",
      "Starting upload for file data/ogbl-citation2/ogbl_citation2/raw/edge.csv.gz\n"
     ]
    },
    {
     "name": "stderr",
     "output_type": "stream",
     "text": [
      "\n",
      "Uploading: 100%|██████████| 145M/145M [00:07<00:00, 19.0MB/s] "
     ]
    },
    {
     "name": "stdout",
     "output_type": "stream",
     "text": [
      "Upload successful: data/ogbl-citation2/ogbl_citation2/raw/edge.csv.gz (138MB)\n",
      "Starting upload for file data/ogbl-citation2/ogbl_citation2/raw/node_year.csv.gz\n"
     ]
    },
    {
     "name": "stderr",
     "output_type": "stream",
     "text": [
      "\n",
      "Uploading: 100%|██████████| 3.03M/3.03M [00:02<00:00, 1.35MB/s]"
     ]
    },
    {
     "name": "stdout",
     "output_type": "stream",
     "text": [
      "Upload successful: data/ogbl-citation2/ogbl_citation2/raw/node_year.csv.gz (3MB)\n",
      "Starting upload for file data/ogbl-citation2/ogbl_citation2/raw/num-edge-list.csv.gz\n"
     ]
    },
    {
     "name": "stderr",
     "output_type": "stream",
     "text": [
      "\n",
      "Uploading: 100%|██████████| 53.0/53.0 [00:00<00:00, 59.4B/s]"
     ]
    },
    {
     "name": "stdout",
     "output_type": "stream",
     "text": [
      "Upload successful: data/ogbl-citation2/ogbl_citation2/raw/num-edge-list.csv.gz (53B)\n",
      "Starting upload for file data/ogbl-citation2/ogbl_citation2/raw/node-feat.csv.gz\n"
     ]
    },
    {
     "name": "stderr",
     "output_type": "stream",
     "text": [
      "\n",
      "Uploading: 100%|██████████| 1.32G/1.32G [00:50<00:00, 26.2MB/s]"
     ]
    },
    {
     "name": "stdout",
     "output_type": "stream",
     "text": [
      "Upload successful: data/ogbl-citation2/ogbl_citation2/raw/node-feat.csv.gz (1GB)\n",
      "Starting upload for file data/ogbl-citation2/ogbl_citation2/raw/num-node-list.csv.gz\n"
     ]
    },
    {
     "name": "stderr",
     "output_type": "stream",
     "text": [
      "\n",
      "Uploading: 100%|██████████| 52.0/52.0 [00:00<00:00, 57.4B/s]"
     ]
    },
    {
     "name": "stdout",
     "output_type": "stream",
     "text": [
      "Upload successful: data/ogbl-citation2/ogbl_citation2/raw/num-node-list.csv.gz (52B)\n"
     ]
    },
    {
     "name": "stderr",
     "output_type": "stream",
     "text": [
      "\n"
     ]
    },
    {
     "name": "stdout",
     "output_type": "stream",
     "text": [
      "Your model instance has been created.\n",
      "Files are being processed...\n",
      "See at: https://www.kaggle.com/models/skywardai/ogbl-citation2/pyTorch/v1\n"
     ]
    }
   ],
   "source": [
    "kagglehub.model_upload(\n",
    "  handle = f\"skywardai/{MODEL_SLUG}/pyTorch/{VARIATION_SLUG}\",\n",
    "  local_model_dir = LOCAL_MODEL_DIR,\n",
    "  version_notes = 'Update 2024-09-13')"
   ]
  },
  {
   "cell_type": "code",
   "execution_count": null,
   "id": "f72cc973-873f-41d0-a856-3816d4c52ed7",
   "metadata": {
    "editable": true,
    "slideshow": {
     "slide_type": ""
    },
    "tags": []
   },
   "outputs": [],
   "source": []
  }
 ],
 "metadata": {
  "kernelspec": {
   "display_name": "Python 3 (ipykernel)",
   "language": "python",
   "name": "python3"
  },
  "language_info": {
   "codemirror_mode": {
    "name": "ipython",
    "version": 3
   },
   "file_extension": ".py",
   "mimetype": "text/x-python",
   "name": "python",
   "nbconvert_exporter": "python",
   "pygments_lexer": "ipython3",
   "version": "3.10.14"
  }
 },
 "nbformat": 4,
 "nbformat_minor": 5
}
