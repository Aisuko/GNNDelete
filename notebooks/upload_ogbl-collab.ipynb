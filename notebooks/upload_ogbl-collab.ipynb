{
 "cells": [
  {
   "cell_type": "markdown",
   "id": "147b13c0-b9c9-4d9a-8479-dd28d10bdcfb",
   "metadata": {
    "editable": true,
    "slideshow": {
     "slide_type": ""
    },
    "tags": []
   },
   "source": [
    "# Upload model ogbl-collab\n",
    "\n",
    "We handle two type of files in this notebook. `pkl` and `pt` files.\n",
    "\n",
    "## pkl files\n",
    "\n",
    "`pkl` stands for a [pickle](https://wiki.python.org/moin/UsingPickle) file which is a way of serializing objects in Python. It's contents can be almost anything. And here we compressed data by using it.\n",
    "\n",
    "\n",
    "## pt files\n",
    "\n",
    "`pt`: It's prioritizes efficiency for PyTorch."
   ]
  },
  {
   "cell_type": "code",
   "execution_count": 1,
   "id": "d8d43d95-7483-4fd7-84b1-83f667c95f39",
   "metadata": {
    "editable": true,
    "slideshow": {
     "slide_type": ""
    },
    "tags": []
   },
   "outputs": [
    {
     "data": {
      "application/vnd.jupyter.widget-view+json": {
       "model_id": "9262e66b35594167bfad86bedbffde2d",
       "version_major": 2,
       "version_minor": 0
      },
      "text/plain": [
       "VBox(children=(HTML(value='<center> <img\\nsrc=https://www.kaggle.com/static/images/site-logo.png\\nalt=\\'Kaggle…"
      ]
     },
     "metadata": {},
     "output_type": "display_data"
    }
   ],
   "source": [
    "import kagglehub\n",
    "\n",
    "kagglehub.login()"
   ]
  },
  {
   "cell_type": "code",
   "execution_count": 2,
   "id": "f66ff78d-a699-43cf-8e74-66a368461b34",
   "metadata": {
    "editable": true,
    "slideshow": {
     "slide_type": ""
    },
    "tags": []
   },
   "outputs": [
    {
     "name": "stdout",
     "output_type": "stream",
     "text": [
      "Uploading Model https://www.kaggle.com/models/skywardai/ogbl-collab/pyTorch/v1 ...\n",
      "Model 'ogbl-collab' does not exist or access is forbidden for user 'skywardai'. Creating or handling Model...\n",
      "Model 'ogbl-collab' Created.\n",
      "Starting upload for file data/ogbl-collab/d_42.pkl\n"
     ]
    },
    {
     "name": "stderr",
     "output_type": "stream",
     "text": [
      "Uploading: 100%|██████████| 217M/217M [00:10<00:00, 21.5MB/s] "
     ]
    },
    {
     "name": "stdout",
     "output_type": "stream",
     "text": [
      "Upload successful: data/ogbl-collab/d_42.pkl (207MB)\n",
      "Starting upload for file data/ogbl-collab/df_42.pt\n"
     ]
    },
    {
     "name": "stderr",
     "output_type": "stream",
     "text": [
      "\n",
      "Uploading: 100%|██████████| 2.12M/2.12M [00:02<00:00, 917kB/s] "
     ]
    },
    {
     "name": "stdout",
     "output_type": "stream",
     "text": [
      "Upload successful: data/ogbl-collab/df_42.pt (2MB)\n",
      "Starting upload for file data/ogbl-collab/d_21.pkl\n"
     ]
    },
    {
     "name": "stderr",
     "output_type": "stream",
     "text": [
      "\n",
      "Uploading: 100%|██████████| 217M/217M [00:09<00:00, 22.1MB/s] "
     ]
    },
    {
     "name": "stdout",
     "output_type": "stream",
     "text": [
      "Upload successful: data/ogbl-collab/d_21.pkl (207MB)\n",
      "Starting upload for file data/ogbl-collab/df_21.pt\n"
     ]
    },
    {
     "name": "stderr",
     "output_type": "stream",
     "text": [
      "\n",
      "Uploading: 100%|██████████| 2.12M/2.12M [00:02<00:00, 725kB/s] "
     ]
    },
    {
     "name": "stdout",
     "output_type": "stream",
     "text": [
      "Upload successful: data/ogbl-collab/df_21.pt (2MB)\n",
      "Starting upload for file data/ogbl-collab/d_13.pkl\n"
     ]
    },
    {
     "name": "stderr",
     "output_type": "stream",
     "text": [
      "\n",
      "Uploading: 100%|██████████| 217M/217M [00:10<00:00, 20.4MB/s] "
     ]
    },
    {
     "name": "stdout",
     "output_type": "stream",
     "text": [
      "Upload successful: data/ogbl-collab/d_13.pkl (207MB)\n",
      "Starting upload for file data/ogbl-collab/df_13.pt\n"
     ]
    },
    {
     "name": "stderr",
     "output_type": "stream",
     "text": [
      "\n",
      "Uploading: 100%|██████████| 2.12M/2.12M [00:02<00:00, 926kB/s] "
     ]
    },
    {
     "name": "stdout",
     "output_type": "stream",
     "text": [
      "Upload successful: data/ogbl-collab/df_13.pt (2MB)\n",
      "Starting upload for file data/ogbl-collab/d_87.pkl\n"
     ]
    },
    {
     "name": "stderr",
     "output_type": "stream",
     "text": [
      "\n",
      "Uploading: 100%|██████████| 217M/217M [00:09<00:00, 22.6MB/s] "
     ]
    },
    {
     "name": "stdout",
     "output_type": "stream",
     "text": [
      "Upload successful: data/ogbl-collab/d_87.pkl (207MB)\n",
      "Starting upload for file data/ogbl-collab/df_87.pt\n"
     ]
    },
    {
     "name": "stderr",
     "output_type": "stream",
     "text": [
      "\n",
      "Uploading: 100%|██████████| 2.12M/2.12M [00:02<00:00, 869kB/s]"
     ]
    },
    {
     "name": "stdout",
     "output_type": "stream",
     "text": [
      "Upload successful: data/ogbl-collab/df_87.pt (2MB)\n",
      "Starting upload for file data/ogbl-collab/d_100.pkl\n"
     ]
    },
    {
     "name": "stderr",
     "output_type": "stream",
     "text": [
      "\n",
      "Uploading: 100%|██████████| 217M/217M [00:10<00:00, 19.8MB/s] "
     ]
    },
    {
     "name": "stdout",
     "output_type": "stream",
     "text": [
      "Upload successful: data/ogbl-collab/d_100.pkl (207MB)\n",
      "Starting upload for file data/ogbl-collab/df_100.pt\n"
     ]
    },
    {
     "name": "stderr",
     "output_type": "stream",
     "text": [
      "\n",
      "Uploading: 100%|██████████| 2.12M/2.12M [00:02<00:00, 924kB/s]"
     ]
    },
    {
     "name": "stdout",
     "output_type": "stream",
     "text": [
      "Upload successful: data/ogbl-collab/df_100.pt (2MB)\n",
      "Starting upload for file data/ogbl-collab/ogbl_collab/RELEASE_v1.txt\n"
     ]
    },
    {
     "name": "stderr",
     "output_type": "stream",
     "text": [
      "\n",
      "Uploading: 100%|██████████| 73.0/73.0 [00:00<00:00, 88.2B/s]"
     ]
    },
    {
     "name": "stdout",
     "output_type": "stream",
     "text": [
      "Upload successful: data/ogbl-collab/ogbl_collab/RELEASE_v1.txt (73B)\n",
      "Starting upload for file data/ogbl-collab/ogbl_collab/split/time/valid.pt\n"
     ]
    },
    {
     "name": "stderr",
     "output_type": "stream",
     "text": [
      "\n",
      "Uploading: 100%|██████████| 3.89M/3.89M [00:02<00:00, 1.61MB/s]"
     ]
    },
    {
     "name": "stdout",
     "output_type": "stream",
     "text": [
      "Upload successful: data/ogbl-collab/ogbl_collab/split/time/valid.pt (4MB)\n",
      "Starting upload for file data/ogbl-collab/ogbl_collab/split/time/test.pt\n"
     ]
    },
    {
     "name": "stderr",
     "output_type": "stream",
     "text": [
      "\n",
      "Uploading: 100%|██████████| 3.40M/3.40M [00:02<00:00, 1.47MB/s]"
     ]
    },
    {
     "name": "stdout",
     "output_type": "stream",
     "text": [
      "Upload successful: data/ogbl-collab/ogbl_collab/split/time/test.pt (3MB)\n",
      "Starting upload for file data/ogbl-collab/ogbl_collab/split/time/train.pt\n"
     ]
    },
    {
     "name": "stderr",
     "output_type": "stream",
     "text": [
      "\n",
      "Uploading: 100%|██████████| 41.1M/41.1M [00:03<00:00, 10.5MB/s]"
     ]
    },
    {
     "name": "stdout",
     "output_type": "stream",
     "text": [
      "Upload successful: data/ogbl-collab/ogbl_collab/split/time/train.pt (39MB)\n",
      "Starting upload for file data/ogbl-collab/ogbl_collab/raw/edge_year.csv.gz\n"
     ]
    },
    {
     "name": "stderr",
     "output_type": "stream",
     "text": [
      "\n",
      "Uploading: 100%|██████████| 782k/782k [00:01<00:00, 442kB/s] "
     ]
    },
    {
     "name": "stdout",
     "output_type": "stream",
     "text": [
      "Upload successful: data/ogbl-collab/ogbl_collab/raw/edge_year.csv.gz (764KB)\n",
      "Starting upload for file data/ogbl-collab/ogbl_collab/raw/num-node-list.csv.gz\n"
     ]
    },
    {
     "name": "stderr",
     "output_type": "stream",
     "text": [
      "\n",
      "Uploading: 100%|██████████| 51.0/51.0 [00:00<00:00, 60.6B/s]"
     ]
    },
    {
     "name": "stdout",
     "output_type": "stream",
     "text": [
      "Upload successful: data/ogbl-collab/ogbl_collab/raw/num-node-list.csv.gz (51B)\n",
      "Starting upload for file data/ogbl-collab/ogbl_collab/raw/edge_weight.csv.gz\n"
     ]
    },
    {
     "name": "stderr",
     "output_type": "stream",
     "text": [
      "\n",
      "Uploading: 100%|██████████| 107k/107k [00:01<00:00, 95.2kB/s]"
     ]
    },
    {
     "name": "stdout",
     "output_type": "stream",
     "text": [
      "Upload successful: data/ogbl-collab/ogbl_collab/raw/edge_weight.csv.gz (104KB)\n",
      "Starting upload for file data/ogbl-collab/ogbl_collab/raw/edge.csv.gz\n"
     ]
    },
    {
     "name": "stderr",
     "output_type": "stream",
     "text": [
      "\n",
      "Uploading: 100%|██████████| 4.93M/4.93M [00:02<00:00, 2.09MB/s]"
     ]
    },
    {
     "name": "stdout",
     "output_type": "stream",
     "text": [
      "Upload successful: data/ogbl-collab/ogbl_collab/raw/edge.csv.gz (5MB)\n",
      "Starting upload for file data/ogbl-collab/ogbl_collab/raw/node-feat.csv.gz\n"
     ]
    },
    {
     "name": "stderr",
     "output_type": "stream",
     "text": [
      "\n",
      "Uploading: 100%|██████████| 106M/106M [00:06<00:00, 16.9MB/s] "
     ]
    },
    {
     "name": "stdout",
     "output_type": "stream",
     "text": [
      "Upload successful: data/ogbl-collab/ogbl_collab/raw/node-feat.csv.gz (101MB)\n",
      "Starting upload for file data/ogbl-collab/ogbl_collab/raw/num-edge-list.csv.gz\n"
     ]
    },
    {
     "name": "stderr",
     "output_type": "stream",
     "text": [
      "\n",
      "Uploading: 100%|██████████| 52.0/52.0 [00:00<00:00, 60.8B/s]"
     ]
    },
    {
     "name": "stdout",
     "output_type": "stream",
     "text": [
      "Upload successful: data/ogbl-collab/ogbl_collab/raw/num-edge-list.csv.gz (52B)\n",
      "Starting upload for file data/ogbl-collab/ogbl_collab/mapping/nodeidx2authorid.csv.gz\n"
     ]
    },
    {
     "name": "stderr",
     "output_type": "stream",
     "text": [
      "\n",
      "Uploading: 100%|██████████| 1.72M/1.72M [00:02<00:00, 829kB/s] "
     ]
    },
    {
     "name": "stdout",
     "output_type": "stream",
     "text": [
      "Upload successful: data/ogbl-collab/ogbl_collab/mapping/nodeidx2authorid.csv.gz (2MB)\n",
      "Starting upload for file data/ogbl-collab/ogbl_collab/mapping/README.md\n"
     ]
    },
    {
     "name": "stderr",
     "output_type": "stream",
     "text": [
      "\n",
      "Uploading: 100%|██████████| 524/524 [00:00<00:00, 603B/s]  "
     ]
    },
    {
     "name": "stdout",
     "output_type": "stream",
     "text": [
      "Upload successful: data/ogbl-collab/ogbl_collab/mapping/README.md (524B)\n",
      "Starting upload for file data/ogbl-collab/ogbl_collab/processed/geometric_data_processed.pt\n"
     ]
    },
    {
     "name": "stderr",
     "output_type": "stream",
     "text": [
      "\n",
      "Uploading: 100%|██████████| 196M/196M [00:09<00:00, 21.0MB/s] "
     ]
    },
    {
     "name": "stdout",
     "output_type": "stream",
     "text": [
      "Upload successful: data/ogbl-collab/ogbl_collab/processed/geometric_data_processed.pt (187MB)\n",
      "Starting upload for file data/ogbl-collab/ogbl_collab/processed/pre_transform.pt\n"
     ]
    },
    {
     "name": "stderr",
     "output_type": "stream",
     "text": [
      "\n",
      "Uploading: 100%|██████████| 431/431 [00:00<00:00, 463B/s]  "
     ]
    },
    {
     "name": "stdout",
     "output_type": "stream",
     "text": [
      "Upload successful: data/ogbl-collab/ogbl_collab/processed/pre_transform.pt (431B)\n",
      "Starting upload for file data/ogbl-collab/ogbl_collab/processed/pre_filter.pt\n"
     ]
    },
    {
     "name": "stderr",
     "output_type": "stream",
     "text": [
      "\n",
      "Uploading: 100%|██████████| 431/431 [00:00<00:00, 491B/s]"
     ]
    },
    {
     "name": "stdout",
     "output_type": "stream",
     "text": [
      "Upload successful: data/ogbl-collab/ogbl_collab/processed/pre_filter.pt (431B)\n"
     ]
    },
    {
     "name": "stderr",
     "output_type": "stream",
     "text": [
      "\n"
     ]
    },
    {
     "name": "stdout",
     "output_type": "stream",
     "text": [
      "Your model instance has been created.\n",
      "Files are being processed...\n",
      "See at: https://www.kaggle.com/models/skywardai/ogbl-collab/pyTorch/v1\n"
     ]
    }
   ],
   "source": [
    "LOCAL_MODEL_DIR ='data/ogbl-collab'\n",
    "MODEL_SLUG='ogbl-collab'\n",
    "VARIATION_SLUG = 'v1'\n",
    "\n",
    "\n",
    "kagglehub.model_upload(\n",
    "  handle = f\"skywardai/{MODEL_SLUG}/pyTorch/{VARIATION_SLUG}\",\n",
    "  local_model_dir = LOCAL_MODEL_DIR,\n",
    "  version_notes = 'Update 2024-09-13')"
   ]
  }
 ],
 "metadata": {
  "kernelspec": {
   "display_name": "Python 3 (ipykernel)",
   "language": "python",
   "name": "python3"
  },
  "language_info": {
   "codemirror_mode": {
    "name": "ipython",
    "version": 3
   },
   "file_extension": ".py",
   "mimetype": "text/x-python",
   "name": "python",
   "nbconvert_exporter": "python",
   "pygments_lexer": "ipython3",
   "version": "3.10.14"
  }
 },
 "nbformat": 4,
 "nbformat_minor": 5
}
